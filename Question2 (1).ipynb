{
 "cells": [
  {
   "cell_type": "code",
   "execution_count": 1,
   "id": "1bbc5433-ed66-487e-9429-51680c67b935",
   "metadata": {},
   "outputs": [
    {
     "data": {
      "text/plain": [
       "('Sonu', 'Vijay', 'anchal')"
      ]
     },
     "execution_count": 1,
     "metadata": {},
     "output_type": "execute_result"
    }
   ],
   "source": [
    "# *args are refered as arguments and it is used for multiple arguments used by a function \n",
    "\n",
    "# *args example - \n",
    "def argu(*args):\n",
    "    return args\n",
    "argu(\"Sonu\",\"Vijay\",\"anchal\")"
   ]
  },
  {
   "cell_type": "code",
   "execution_count": 2,
   "id": "cb092290-7ff3-4cb0-9462-d5136500ef23",
   "metadata": {},
   "outputs": [
    {
     "data": {
      "text/plain": [
       "{'a': 'main', 'b': 'master', 'c': 'Linked'}"
      ]
     },
     "execution_count": 2,
     "metadata": {},
     "output_type": "execute_result"
    }
   ],
   "source": [
    "# **kwargs are referred as key word arguments and it is used for multi keywords arguments (Like dictionary)\n",
    "\n",
    "# **kwargs example - \n",
    "def keywords(**kwargs):\n",
    "    return kwargs\n",
    "\n",
    "keywords(a=\"main\",b=\"master\",c=\"Linked\")"
   ]
  },
  {
   "cell_type": "code",
   "execution_count": null,
   "id": "208503f3-79b7-499a-8f4a-e17d3fa8c758",
   "metadata": {},
   "outputs": [],
   "source": []
  }
 ],
 "metadata": {
  "kernelspec": {
   "display_name": "Python 3 (ipykernel)",
   "language": "python",
   "name": "python3"
  },
  "language_info": {
   "codemirror_mode": {
    "name": "ipython",
    "version": 3
   },
   "file_extension": ".py",
   "mimetype": "text/x-python",
   "name": "python",
   "nbconvert_exporter": "python",
   "pygments_lexer": "ipython3",
   "version": "3.10.8"
  }
 },
 "nbformat": 4,
 "nbformat_minor": 5
}
