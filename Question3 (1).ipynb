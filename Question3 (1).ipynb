{
 "cells": [
  {
   "cell_type": "code",
   "execution_count": 10,
   "id": "1af56670-b496-4c5e-a737-50f6a5ac441a",
   "metadata": {},
   "outputs": [
    {
     "name": "stdout",
     "output_type": "stream",
     "text": [
      "2\n",
      "4\n",
      "6\n",
      "8\n",
      "10\n"
     ]
    }
   ],
   "source": [
    "# a variable which can iterated with their each element is called iterator.\n",
    "\n",
    "# The method use for inialize the iterator object is iter<variable> and iteration can be done by next<variable>\n",
    "\n",
    "#Example - \n",
    "\n",
    "l = [2, 4, 6, 8, 10, 12, 14,16, 18, 20]\n",
    "l = iter(l)\n",
    "for i in range(5):\n",
    "    print(next(l))"
   ]
  },
  {
   "cell_type": "code",
   "execution_count": null,
   "id": "5ee9b009-f494-478c-bba9-b7cf8d895851",
   "metadata": {},
   "outputs": [],
   "source": []
  },
  {
   "cell_type": "code",
   "execution_count": null,
   "id": "ca663fa6-d2f1-4d7b-bf40-785f7dc1b50e",
   "metadata": {},
   "outputs": [],
   "source": []
  }
 ],
 "metadata": {
  "kernelspec": {
   "display_name": "Python 3 (ipykernel)",
   "language": "python",
   "name": "python3"
  },
  "language_info": {
   "codemirror_mode": {
    "name": "ipython",
    "version": 3
   },
   "file_extension": ".py",
   "mimetype": "text/x-python",
   "name": "python",
   "nbconvert_exporter": "python",
   "pygments_lexer": "ipython3",
   "version": "3.10.8"
  }
 },
 "nbformat": 4,
 "nbformat_minor": 5
}
