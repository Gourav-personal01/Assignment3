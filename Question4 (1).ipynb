{
 "cells": [
  {
   "cell_type": "code",
   "execution_count": 3,
   "id": "80ce5159-96d0-457c-8012-01da2c2456d8",
   "metadata": {},
   "outputs": [
    {
     "name": "stdout",
     "output_type": "stream",
     "text": [
      "1\n",
      "2\n",
      "3\n",
      "4\n",
      "5\n"
     ]
    }
   ],
   "source": [
    "# Generator function is the function which generate the no of values (like febonnaci series)\n",
    "\n",
    "#Yield keyword is basically used for generation multiple various because after every excecution yeild will show a output\n",
    "\n",
    "\n",
    "def gen(n):\n",
    "    count =1\n",
    "    for i in range(n):\n",
    "        yield count\n",
    "        count = count+1\n",
    "\n",
    "a =gen(5)\n",
    "for i in a :\n",
    "    print(i)\n"
   ]
  },
  {
   "cell_type": "code",
   "execution_count": null,
   "id": "f5237069-e87e-4fb5-8518-2feaf4aa3ced",
   "metadata": {},
   "outputs": [],
   "source": []
  }
 ],
 "metadata": {
  "kernelspec": {
   "display_name": "Python 3 (ipykernel)",
   "language": "python",
   "name": "python3"
  },
  "language_info": {
   "codemirror_mode": {
    "name": "ipython",
    "version": 3
   },
   "file_extension": ".py",
   "mimetype": "text/x-python",
   "name": "python",
   "nbconvert_exporter": "python",
   "pygments_lexer": "ipython3",
   "version": "3.10.8"
  }
 },
 "nbformat": 4,
 "nbformat_minor": 5
}
